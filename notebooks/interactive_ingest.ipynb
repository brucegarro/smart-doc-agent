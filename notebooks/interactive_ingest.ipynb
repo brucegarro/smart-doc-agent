{
 "cells": [
  {
   "cell_type": "markdown",
   "id": "83e9ecea",
   "metadata": {},
   "source": [
    "<iframe src=\"files/static/ingest_panel.html\" style=\"width:100%;max-width:720px;height:420px;border:0;border-radius:8px;\" title=\"PDF Ingestion\"></iframe>"
   ]
  },
  {
   "cell_type": "markdown",
   "id": "0857ce0a",
   "metadata": {},
   "source": [
    "<iframe src=\"files/static/query_panel.html\" style=\"width:100%;max-width:720px;height:320px;border:0;border-radius:8px;\" title=\"PDF Query\"></iframe>"
   ]
  }
 ],
 "metadata": {
  "language_info": {
   "name": "python"
  }
 },
 "nbformat": 4,
 "nbformat_minor": 5
}
